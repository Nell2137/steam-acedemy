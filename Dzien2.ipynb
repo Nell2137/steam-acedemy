{
 "cells": [
  {
   "cell_type": "code",
   "execution_count": 1,
   "metadata": {},
   "outputs": [
    {
     "name": "stdout",
     "output_type": "stream",
     "text": [
      "Koniec programu\n"
     ]
    }
   ],
   "source": [
    "#zawsze gdy\n",
    "while True:\n",
    "    imie=input(\"Podaj imię (jeśli chcesz zakończysz wpisz hasło koniec)\")\n",
    "\n",
    "    if imie=='koniec':\n",
    "        print('Koniec programu')\n",
    "        break"
   ]
  },
  {
   "cell_type": "code",
   "execution_count": null,
   "metadata": {},
   "outputs": [],
   "source": [
    "5==10 #czy sie równa"
   ]
  },
  {
   "cell_type": "code",
   "execution_count": 1,
   "metadata": {},
   "outputs": [
    {
     "name": "stdout",
     "output_type": "stream",
     "text": [
      "Niepoprawne hasło. Spróbuj ponownie\n",
      "Niepoprawne hasło. Spróbuj ponownie\n",
      "Hasło jest poprawne. Witaj!\n"
     ]
    }
   ],
   "source": [
    "correct_password= 'dupa1234'\n",
    "\n",
    "password=input(\"Wpisz hasło\")\n",
    "\n",
    "while password!=correct_password:\n",
    "    print(\"Niepoprawne hasło. Spróbuj ponownie\")\n",
    "    password=input (\"Wpisz hasło:\")\n",
    "\n",
    "print(\"Hasło jest poprawne. Witaj!\")"
   ]
  },
  {
   "cell_type": "markdown",
   "metadata": {},
   "source": [
    "<h3>Funkcje</h3>"
   ]
  },
  {
   "cell_type": "code",
   "execution_count": null,
   "metadata": {},
   "outputs": [],
   "source": [
    "def nazwa_funkcji (argymenty):\n",
    "    ....\n",
    "    return wynik"
   ]
  },
  {
   "cell_type": "code",
   "execution_count": null,
   "metadata": {},
   "outputs": [],
   "source": [
    "def print_hello()\n",
    "    print (\"Hello\")"
   ]
  },
  {
   "cell_type": "code",
   "execution_count": 2,
   "metadata": {},
   "outputs": [
    {
     "ename": "NameError",
     "evalue": "name 'print_hello' is not defined",
     "output_type": "error",
     "traceback": [
      "\u001b[1;31m---------------------------------------------------------------------------\u001b[0m",
      "\u001b[1;31mNameError\u001b[0m                                 Traceback (most recent call last)",
      "\u001b[1;32mc:\\Users\\Kornelia\\Desktop\\steam acedemy\\Dzien2.ipynb Cell 7\u001b[0m line \u001b[0;36m1\n\u001b[1;32m----> <a href='vscode-notebook-cell:/c%3A/Users/Kornelia/Desktop/steam%20acedemy/Dzien2.ipynb#W6sZmlsZQ%3D%3D?line=0'>1</a>\u001b[0m print_hello()\n",
      "\u001b[1;31mNameError\u001b[0m: name 'print_hello' is not defined"
     ]
    }
   ],
   "source": [
    "print_hello()"
   ]
  },
  {
   "cell_type": "code",
   "execution_count": 4,
   "metadata": {},
   "outputs": [
    {
     "name": "stdout",
     "output_type": "stream",
     "text": [
      "Hello, Nel!\n"
     ]
    }
   ],
   "source": [
    "def print_hello(name):\n",
    "    print(f\"Hello, {name}!\")\n",
    "\n",
    "print_hello(\"Nel\")\n"
   ]
  },
  {
   "cell_type": "code",
   "execution_count": 5,
   "metadata": {},
   "outputs": [
    {
     "name": "stdout",
     "output_type": "stream",
     "text": [
      "Hello, Nel!\n"
     ]
    }
   ],
   "source": [
    "print_hello(\"Nel\")"
   ]
  },
  {
   "cell_type": "code",
   "execution_count": 6,
   "metadata": {},
   "outputs": [],
   "source": [
    "def sum_numbers(x,y):\n",
    "    return x+y"
   ]
  },
  {
   "cell_type": "code",
   "execution_count": 7,
   "metadata": {},
   "outputs": [
    {
     "data": {
      "text/plain": [
       "1021"
      ]
     },
     "execution_count": 7,
     "metadata": {},
     "output_type": "execute_result"
    }
   ],
   "source": [
    "sum_numbers(1000,21)"
   ]
  },
  {
   "cell_type": "code",
   "execution_count": 11,
   "metadata": {},
   "outputs": [],
   "source": [
    "def dupa(x,y):\n",
    "    return x-y"
   ]
  },
  {
   "cell_type": "code",
   "execution_count": 13,
   "metadata": {},
   "outputs": [
    {
     "data": {
      "text/plain": [
       "10"
      ]
     },
     "execution_count": 13,
     "metadata": {},
     "output_type": "execute_result"
    }
   ],
   "source": [
    "dupa(12,2)"
   ]
  },
  {
   "cell_type": "code",
   "execution_count": 16,
   "metadata": {},
   "outputs": [
    {
     "name": "stdout",
     "output_type": "stream",
     "text": [
      "Nazywasz się Nela Backiel\n"
     ]
    }
   ],
   "source": [
    "def dupa1(x,y):\n",
    "    print (\"Nazywasz się \" +x,y)\n",
    "dupa1(\"Nela\",\"Backiel\")"
   ]
  },
  {
   "cell_type": "code",
   "execution_count": 22,
   "metadata": {},
   "outputs": [
    {
     "data": {
      "text/plain": [
       "('Nazywasz sięNell', 'bac')"
      ]
     },
     "execution_count": 22,
     "metadata": {},
     "output_type": "execute_result"
    }
   ],
   "source": [
    "def dupa2(imie,y=\"Kowalski\"):\n",
    "    return \"Nazywasz się\" +imie,y\n",
    "dupa2(\"Nell\", \"bac\")"
   ]
  },
  {
   "cell_type": "code",
   "execution_count": null,
   "metadata": {},
   "outputs": [],
   "source": []
  },
  {
   "cell_type": "markdown",
   "metadata": {},
   "source": [
    "<h3>Praca z plikami</h3>"
   ]
  },
  {
   "cell_type": "code",
   "execution_count": 23,
   "metadata": {},
   "outputs": [
    {
     "name": "stdout",
     "output_type": "stream",
     "text": [
      "Hans Christian Andersen\n",
      "\n",
      "Dziewczynka z zapałkami\n",
      "tłum. Cecylia Niewiadomska\n",
      "\n",
      "ISBN 978-83-288-2052-4\n",
      "\n",
      "\n",
      "Zimno było, śnieg padał, ściemniało się coraz bardziej, wieczór się zbliżał. Ostatni dzień roku skończy się niedługo.\n",
      "\n",
      "Zima. Przez ulice zasypane śniegiem, w zmroku idzie dziewczynka bosa, z gołą głową i coś niesie w fartuszku. Dlaczego bosa? To cała historia. Rano miała pantofle, stare i zniszczone, za duże na nią, stare pantofle matki, ale je pogubiła. Dwa powozy nadjeżdżały właśnie z stron przeciwnych, a ona chciała prędko przebiec przez ulicę; biegła co sił, słyszała straszny tętent kopyt, turkot kół, tuż za nią — ach, uciekła przecież, ale boso. Jeden pantofel tak zginął, że go nie mogła znaleźć wśród ciemności, a drugi porwał jakiś chłopiec i ze śmiechem uciekł daleko.\n",
      "\n",
      "Więc szła boso biedna dziewczynka po śniegu, a nogi jej zsiniały i poczerwieniały. Jedną ręką ściskała czerwony fartuszek, w którym niosła kilkanaście paczek zapałek na sprzedaż, a w drugiej ręce miała jedną paczkę i tę podsuwała nieśmiało przechodniom, aby zwrócić na siebie ich uwagę. Ale nikt po nią nie sięgnął, nikt dzisiaj nic nie kupił jeszcze od dziewczynki, nie miała ani grosika zarobku.\n",
      "\n",
      "Drżała z zimna i głodu, idąc z wolna przez ulice, podobniejsza do cienia, niż do żywego dziecka. Białe płatki śniegu osiadały jej na długich, jasnych włosach, które ciepłym płaszczem osłaniały plecy i szyję dziewczynki. Ładnie jej było w tym złocistym płaszczu ze srebrzystymi gwiazdami nad czołem, lecz nie myślała o tym. Więcej zajmował ją przyjemny zapach pieczonej gęsi, który co chwila uderzał jej głodem zaostrzone powonienie. Ludzie żegnali stary rok wesoło, a ona taka głodna i zziębnięta….\n",
      "\n",
      "Usiadła wreszcie. Tak była zmęczona, że nie mogła iść dalej. Osiadła w kąciku między dwoma domami, z których jeden więcej występował na środek ulicy. Ciemno tu było, więc nikt jej nie widział. Zresztą tak się skuliła, skryła pod spódniczkę zziębnięte nogi, ażeby je rozgrzać… Ale jakże się rozgrzać na śniegu i mrozie? A do domu wrócić nie miała odwagi: nie sprzedała ani jednego pudełka, jakże wracać bez pieniędzy? Ojciec czy ojczym obiłby ją pewno… A zresztą czyż tam cieplej? Wiatr mroźny świszcze przez otwory w dachu, choć zatkali największe słomą i gałganami. Nie ma po co wracać do domu.\n",
      "\n",
      "Zziębnięte ręce skostniały jej prawie, nie ma siły utrzymać w nich paczki zapałek. A gdyby zapaliła jedną dla rozgrzania? Tylko jedną zapałkę.\n",
      "\n",
      "Na wspomnienie ciepła już nie ma siły oprzeć się pokusie. Jedna zapałka tylko. Wyjmuje ostrożnie, trzask… i płonie! Cóż za wesołe światło, jasne i ciepłe, ach, jak grzeje w ręce! Cudowny płomyk!\n",
      "\n",
      "Wydało jej się nagle, że siedzi przed ciepłym, żelaznym piecem na świecących nóżkach, z mosiężnymi drzwiczkami. Ach, jak ciepło! Jak grzeje duży, jasny płomień, jak wesoło się pali! Wyciągnęła nóżki spod cienkiej sukienki, aby je ogrzać także, lecz w tej samej chwili — zapałka zgasła; zniknął piec żelazny i wesołe ognisko, a w ręce dzieciny pozostał tylko maleńki kawałek spalonego drewienka.\n",
      "\n",
      "Dziewczynka zapaliła drugą bez namysłu. Jasne światełko padło na mur szary, który w tym miejscu stał się przezroczysty, niby muślin cieniutki. I ujrzała w głębi duży, jasny pokój, stół nakryty czystym, bielutkim obrusem, na nim talerze, szklanki, a na samym środku ogromna gęś pieczona na półmisku, pachnąca, nadziewana jabłkami, śliwkami. Gęś poruszyła się nagle, zeskoczyła na ziemię z nożem i widelcem w zarumienionej piersi i zaczęła posuwać się w stronę dziewczynki…\n",
      "\n",
      "Wtem zapałka znów zgasła i zamiast ciepłego pokoju, dziecko miało przed sobą mur szary, wilgotny i ciemny.\n",
      "\n",
      "Śpiesznie zapaliła trzecią. Płomyk strzelił w górę, zamigotał i rozprysnął się na wszystkie strony, iskrząc się w powietrzu niby świeczki na choince. Ach, choinka! Tuż przed nią stoi wspaniała, wielka, jaśniejąca światłami, piękniejsza i strojniejsza od tej, którą widziała przez szklane podwoje w mieszkaniu bogatego kupca. Ileż świeczek! Tysiące! Takie ciepłe, jasne. Dziewczynka wyciągnęła ku nim obie rączki… a wtem zapałka zgasła. Ale maleńkie iskierki unosiły się w górę, coraz wyżej, wyżej i zajaśniały między gwiazdami na niebie. Och, jedna spadła, i smuga ognista zagasła za nią.\n",
      "\n",
      "— Ktoś umarł — cicho szepnęła dziewczynka, bo słyszała od babki, którą kochała bardzo, że kiedy gwiazda spada, to dusza człowieka odlatuje z ziemi do nieba.\n",
      "\n",
      "Znów zapłonęła zapałka i w świetle, które zajaśniało, dziewczynka ujrzała tę najdroższą babunię, całą jaśniejącą ciepłym, łagodnym blaskiem. Staruszka z miłością patrzała na wnuczkę, uśmiechała się do niej.\n",
      "\n",
      "— O, babciu, weź mnie z sobą! — zawołało dziecko. — O, weź mnie, babciu! Ja wiem, że ty znikniesz, skoro zapałka zgaśnie, jak zniknął piec ciepły, gęś i choinka. O, nie znikaj, babciu!\n",
      "\n",
      "Drżącą z pośpiechu i mrozu rączyną zapaliła dziewczynka całe pudełko od razu, tak bardzo chciała zatrzymać babunię. I buchnął jasny płomień, jaśniejszy od słońca, i babka nigdy tak piękna nie była, tak płomienna i jaśniejąca. Uśmiechnęła się znowu do małej dziewczynki i wzięła ją na ręce. Teraz podniosły się obie wysoko, coraz wyżej, ku gwiazdom, ku światłom wspaniałym, gdzie nie ma głodu, chłodu ani trwogi, aż przed tron Boga.\n",
      "\n",
      "Nazajutrz w kąciku pod murem, ujrzano zmarznięte ciało dziewczynki. Na twarzy miała uśmiech na ustach, w dłoni spalone pudełko zapałek. Dzień noworoczny powitał ją blaskiem jasnego słońca, ludzie ze współczuciem patrzyli na drobne biedactwo.\n",
      "\n",
      "— Chciała się ogrzać — rzekł ktoś, pokazując na spalone zapałki.\n",
      "\n",
      "Nikt się nie domyślił, co widziała przed śmiercią w świetle tych kilku drewienek i w jakim blasku wstąpiła do nieba w objęciach zmarłej babki.\n",
      "\n",
      "\n",
      "\n",
      "\n",
      "-----\n",
      "Ta lektura, podobnie jak tysiące innych, dostępna jest na stronie wolnelektury.pl.\n",
      "Wersja lektury w opracowaniu merytorycznym i krytycznym (przypisy i motywy) dostępna jest na stronie http://wolnelektury.pl/katalog/lektura/dziewczynka-z-zapalkami.\n",
      "\n",
      "Utwór opracowany został w ramach projektu Wolne Lektury przez fundację Nowoczesna Polska.\n",
      "\n",
      "Wszystkie zasoby Wolnych Lektur możesz swobodnie wykorzystywać, publikować i rozpowszechniać pod warunkiem zachowania warunków licencji i zgodnie z Zasadami wykorzystania Wolnych Lektur.\n",
      "Ten utwór jest w domenie publicznej.\n",
      "Wszystkie materiały dodatkowe (przypisy, motywy literackie) są udostępnione na Licencji Wolnej Sztuki 1.3: https://artlibre.org/licence/lal/pl/\n",
      "Fundacja Nowoczesna Polska zastrzega sobie prawa do wydania krytycznego zgodnie z art. Art.99(2) Ustawy o prawach autorskich i prawach pokrewnych.\n",
      "Wykorzystując zasoby z Wolnych Lektur, należy pamiętać o zapisach licencji oraz zasadach, które spisaliśmy w Zasadach wykorzystania Wolnych Lektur: https://wolnelektury.pl/info/zasady-wykorzystania/\n",
      "Zapoznaj się z nimi, zanim udostępnisz dalej nasze książki.\n",
      "\n",
      "Tekst opracowany na podstawie: Hans Christian Andersen, Baśnie, tłum. Cecylia Niewiadomska, wyd. Gebethner i Wolff, Warszawa 1931\n",
      "\n",
      "Wydawca: Fundacja Nowoczesna Polska\n",
      "\n",
      "Publikacja zrealizowana w ramach projektu Wolne Lektury (http://wolnelektury.pl). Reprodukcja cyfrowa wykonana przez Bibliotekę Narodową z egzemplarza pochodzącego ze zbiorów BN.\n",
      "\n",
      "Opracowanie redakcyjne i przypisy: Iwona Ciećwierz, Aleksandra Sekuła.\n",
      "\n",
      "ISBN-978-83-288-2052-4\n",
      "\n"
     ]
    }
   ],
   "source": [
    "with open('dziewczynka-z-zapalkami.txt','r',encoding='utf-8') as plik:\n",
    "    zawartosc=plik.read()\n",
    "    print(zawartosc)"
   ]
  },
  {
   "cell_type": "code",
   "execution_count": 24,
   "metadata": {},
   "outputs": [
    {
     "data": {
      "text/plain": [
       "str"
      ]
     },
     "execution_count": 24,
     "metadata": {},
     "output_type": "execute_result"
    }
   ],
   "source": [
    "type(zawartosc)"
   ]
  },
  {
   "cell_type": "markdown",
   "metadata": {},
   "source": [
    "<h3>Rysowanie wykresów</h3>"
   ]
  },
  {
   "cell_type": "code",
   "execution_count": 25,
   "metadata": {},
   "outputs": [
    {
     "name": "stdout",
     "output_type": "stream",
     "text": [
      "Collecting matplotlibNote: you may need to restart the kernel to use updated packages.\n",
      "\n",
      "  Obtaining dependency information for matplotlib from https://files.pythonhosted.org/packages/2e/51/c77a14869b7eb9d6fb440e811b754fc3950d6868c38ace57d0632b674415/matplotlib-3.8.2-cp312-cp312-win_amd64.whl.metadata\n",
      "  Downloading matplotlib-3.8.2-cp312-cp312-win_amd64.whl.metadata (5.9 kB)\n",
      "Collecting contourpy>=1.0.1 (from matplotlib)\n",
      "  Obtaining dependency information for contourpy>=1.0.1 from https://files.pythonhosted.org/packages/8e/ae/a6353db548bff1a592b85ae6bb80275f0a51dc25a0410d059e5b33183e36/contourpy-1.2.0-cp312-cp312-win_amd64.whl.metadata\n",
      "  Downloading contourpy-1.2.0-cp312-cp312-win_amd64.whl.metadata (5.8 kB)\n",
      "Collecting cycler>=0.10 (from matplotlib)\n",
      "  Obtaining dependency information for cycler>=0.10 from https://files.pythonhosted.org/packages/e7/05/c19819d5e3d95294a6f5947fb9b9629efb316b96de511b418c53d245aae6/cycler-0.12.1-py3-none-any.whl.metadata\n",
      "  Downloading cycler-0.12.1-py3-none-any.whl.metadata (3.8 kB)\n",
      "Collecting fonttools>=4.22.0 (from matplotlib)\n",
      "  Obtaining dependency information for fonttools>=4.22.0 from https://files.pythonhosted.org/packages/ea/1e/a944a93c33e5cf495b0eb0c5e7e81f707c6b4d0dc5e54fb38ad2734da762/fonttools-4.46.0-cp312-cp312-win_amd64.whl.metadata\n",
      "  Downloading fonttools-4.46.0-cp312-cp312-win_amd64.whl.metadata (159 kB)\n",
      "     ---------------------------------------- 0.0/159.4 kB ? eta -:--:--\n",
      "     --------- --------------------------- 41.0/159.4 kB 991.0 kB/s eta 0:00:01\n",
      "     ------------------------------------ - 153.6/159.4 kB 1.8 MB/s eta 0:00:01\n",
      "     -------------------------------------- 159.4/159.4 kB 1.6 MB/s eta 0:00:00\n",
      "Collecting kiwisolver>=1.3.1 (from matplotlib)\n",
      "  Obtaining dependency information for kiwisolver>=1.3.1 from https://files.pythonhosted.org/packages/63/50/2746566bdf4a6a842d117367d05c90cfb87ac04e9e2845aa1fa21f071362/kiwisolver-1.4.5-cp312-cp312-win_amd64.whl.metadata\n",
      "  Downloading kiwisolver-1.4.5-cp312-cp312-win_amd64.whl.metadata (6.5 kB)\n",
      "Collecting numpy<2,>=1.21 (from matplotlib)\n",
      "  Obtaining dependency information for numpy<2,>=1.21 from https://files.pythonhosted.org/packages/28/75/3b679b41713bb60e2e8f6e2f87be72c971c9e718b1c17b8f8749240ddca8/numpy-1.26.2-cp312-cp312-win_amd64.whl.metadata\n",
      "  Downloading numpy-1.26.2-cp312-cp312-win_amd64.whl.metadata (61 kB)\n",
      "     ---------------------------------------- 0.0/61.2 kB ? eta -:--:--\n",
      "     ---------------------------------------- 61.2/61.2 kB 3.2 MB/s eta 0:00:00\n",
      "Requirement already satisfied: packaging>=20.0 in c:\\users\\kornelia\\appdata\\roaming\\python\\python312\\site-packages (from matplotlib) (23.2)\n",
      "Collecting pillow>=8 (from matplotlib)\n",
      "  Obtaining dependency information for pillow>=8 from https://files.pythonhosted.org/packages/32/e4/978865107d097dd9cb650331676d8dc29ed9fcd0aaab46486e9d6e5123f0/Pillow-10.1.0-cp312-cp312-win_amd64.whl.metadata\n",
      "  Downloading Pillow-10.1.0-cp312-cp312-win_amd64.whl.metadata (9.6 kB)\n",
      "Collecting pyparsing>=2.3.1 (from matplotlib)\n",
      "  Obtaining dependency information for pyparsing>=2.3.1 from https://files.pythonhosted.org/packages/39/92/8486ede85fcc088f1b3dba4ce92dd29d126fd96b0008ea213167940a2475/pyparsing-3.1.1-py3-none-any.whl.metadata\n",
      "  Downloading pyparsing-3.1.1-py3-none-any.whl.metadata (5.1 kB)\n",
      "Requirement already satisfied: python-dateutil>=2.7 in c:\\users\\kornelia\\appdata\\roaming\\python\\python312\\site-packages (from matplotlib) (2.8.2)\n",
      "Requirement already satisfied: six>=1.5 in c:\\users\\kornelia\\appdata\\roaming\\python\\python312\\site-packages (from python-dateutil>=2.7->matplotlib) (1.16.0)\n",
      "Downloading matplotlib-3.8.2-cp312-cp312-win_amd64.whl (7.6 MB)\n",
      "   ---------------------------------------- 0.0/7.6 MB ? eta -:--:--\n",
      "    --------------------------------------- 0.1/7.6 MB 4.3 MB/s eta 0:00:02\n",
      "   - -------------------------------------- 0.3/7.6 MB 4.0 MB/s eta 0:00:02\n",
      "   -- ------------------------------------- 0.5/7.6 MB 4.6 MB/s eta 0:00:02\n",
      "   ----- ---------------------------------- 1.1/7.6 MB 7.8 MB/s eta 0:00:01\n",
      "   --------- ------------------------------ 1.8/7.6 MB 8.6 MB/s eta 0:00:01\n",
      "   --------------- ------------------------ 2.9/7.6 MB 11.6 MB/s eta 0:00:01\n",
      "   ---------------------- ----------------- 4.4/7.6 MB 15.5 MB/s eta 0:00:01\n",
      "   ------------------------ --------------- 4.6/7.6 MB 15.4 MB/s eta 0:00:01\n",
      "   -------------------------- ------------- 5.2/7.6 MB 13.7 MB/s eta 0:00:01\n",
      "   -------------------------------------- - 7.3/7.6 MB 17.9 MB/s eta 0:00:01\n",
      "   ---------------------------------------  7.6/7.6 MB 18.1 MB/s eta 0:00:01\n",
      "   ---------------------------------------  7.6/7.6 MB 18.1 MB/s eta 0:00:01\n",
      "   ---------------------------------------- 7.6/7.6 MB 15.3 MB/s eta 0:00:00\n",
      "Downloading contourpy-1.2.0-cp312-cp312-win_amd64.whl (187 kB)\n",
      "   ---------------------------------------- 0.0/187.7 kB ? eta -:--:--\n",
      "   --------------------------------------- 187.7/187.7 kB 11.8 MB/s eta 0:00:00\n",
      "Downloading cycler-0.12.1-py3-none-any.whl (8.3 kB)\n",
      "Downloading fonttools-4.46.0-cp312-cp312-win_amd64.whl (2.2 MB)\n",
      "   ---------------------------------------- 0.0/2.2 MB ? eta -:--:--\n",
      "   --------------------- ------------------ 1.1/2.2 MB 24.2 MB/s eta 0:00:01\n",
      "   ---------------------------------------  2.2/2.2 MB 34.1 MB/s eta 0:00:01\n",
      "   ---------------------------------------- 2.2/2.2 MB 19.6 MB/s eta 0:00:00\n",
      "Downloading kiwisolver-1.4.5-cp312-cp312-win_amd64.whl (56 kB)\n",
      "   ---------------------------------------- 0.0/56.0 kB ? eta -:--:--\n",
      "   ---------------------------------------- 56.0/56.0 kB ? eta 0:00:00\n",
      "Downloading numpy-1.26.2-cp312-cp312-win_amd64.whl (15.5 MB)\n",
      "   ---------------------------------------- 0.0/15.5 MB ? eta -:--:--\n",
      "   -- ------------------------------------- 1.0/15.5 MB 20.0 MB/s eta 0:00:01\n",
      "   -- ------------------------------------- 1.1/15.5 MB 23.1 MB/s eta 0:00:01\n",
      "   ------ --------------------------------- 2.5/15.5 MB 18.0 MB/s eta 0:00:01\n",
      "   ------------ --------------------------- 4.8/15.5 MB 25.6 MB/s eta 0:00:01\n",
      "   ---------------- ----------------------- 6.5/15.5 MB 27.7 MB/s eta 0:00:01\n",
      "   ------------------- -------------------- 7.7/15.5 MB 29.0 MB/s eta 0:00:01\n",
      "   ----------------------- ---------------- 9.0/15.5 MB 28.9 MB/s eta 0:00:01\n",
      "   ------------------------- -------------- 9.8/15.5 MB 27.2 MB/s eta 0:00:01\n",
      "   -------------------------- ------------- 10.1/15.5 MB 26.9 MB/s eta 0:00:01\n",
      "   ------------------------------ --------- 11.6/15.5 MB 28.4 MB/s eta 0:00:01\n",
      "   --------------------------------- ------ 12.8/15.5 MB 28.4 MB/s eta 0:00:01\n",
      "   ----------------------------------- ---- 13.9/15.5 MB 26.2 MB/s eta 0:00:01\n",
      "   -------------------------------------- - 14.9/15.5 MB 24.2 MB/s eta 0:00:01\n",
      "   ---------------------------------------  15.5/15.5 MB 24.2 MB/s eta 0:00:01\n",
      "   ---------------------------------------  15.5/15.5 MB 24.2 MB/s eta 0:00:01\n",
      "   ---------------------------------------  15.5/15.5 MB 24.2 MB/s eta 0:00:01\n",
      "   ---------------------------------------  15.5/15.5 MB 24.2 MB/s eta 0:00:01\n",
      "   ---------------------------------------  15.5/15.5 MB 24.2 MB/s eta 0:00:01\n",
      "   ---------------------------------------- 15.5/15.5 MB 15.6 MB/s eta 0:00:00\n",
      "Downloading Pillow-10.1.0-cp312-cp312-win_amd64.whl (2.6 MB)\n",
      "   ---------------------------------------- 0.0/2.6 MB ? eta -:--:--\n",
      "   --------------- ------------------------ 1.0/2.6 MB 32.4 MB/s eta 0:00:01\n",
      "   ------------------------- -------------- 1.7/2.6 MB 21.3 MB/s eta 0:00:01\n",
      "   ---------------------------------------  2.6/2.6 MB 20.7 MB/s eta 0:00:01\n",
      "   ---------------------------------------  2.6/2.6 MB 20.7 MB/s eta 0:00:01\n",
      "   ---------------------------------------- 2.6/2.6 MB 15.2 MB/s eta 0:00:00\n",
      "Downloading pyparsing-3.1.1-py3-none-any.whl (103 kB)\n",
      "   ---------------------------------------- 0.0/103.1 kB ? eta -:--:--\n",
      "   ---------------------------------------- 103.1/103.1 kB 6.2 MB/s eta 0:00:00\n",
      "Installing collected packages: pyparsing, pillow, numpy, kiwisolver, fonttools, cycler, contourpy, matplotlib\n",
      "Successfully installed contourpy-1.2.0 cycler-0.12.1 fonttools-4.46.0 kiwisolver-1.4.5 matplotlib-3.8.2 numpy-1.26.2 pillow-10.1.0 pyparsing-3.1.1\n"
     ]
    },
    {
     "name": "stderr",
     "output_type": "stream",
     "text": [
      "  WARNING: The script f2py.exe is installed in 'c:\\Users\\Kornelia\\AppData\\Local\\Programs\\Python\\Python312\\Scripts' which is not on PATH.\n",
      "  Consider adding this directory to PATH or, if you prefer to suppress this warning, use --no-warn-script-location.\n",
      "  WARNING: The scripts fonttools.exe, pyftmerge.exe, pyftsubset.exe and ttx.exe are installed in 'c:\\Users\\Kornelia\\AppData\\Local\\Programs\\Python\\Python312\\Scripts' which is not on PATH.\n",
      "  Consider adding this directory to PATH or, if you prefer to suppress this warning, use --no-warn-script-location.\n",
      "\n",
      "[notice] A new release of pip is available: 23.2.1 -> 23.3.1\n",
      "[notice] To update, run: python.exe -m pip install --upgrade pip\n"
     ]
    }
   ],
   "source": [
    "pip install matplotlib"
   ]
  },
  {
   "cell_type": "code",
   "execution_count": 26,
   "metadata": {},
   "outputs": [],
   "source": [
    "import matplotlib.pyplot as plt"
   ]
  },
  {
   "cell_type": "code",
   "execution_count": 30,
   "metadata": {},
   "outputs": [],
   "source": [
    "x=[0,1,2,3,4,5]\n",
    "y=[0,1,4,9,16,25]"
   ]
  },
  {
   "cell_type": "code",
   "execution_count": 33,
   "metadata": {},
   "outputs": [
    {
     "data": {
      "text/plain": [
       "Text(0.5, 1.0, 'Zależność między zmiennymi x a y')"
      ]
     },
     "execution_count": 33,
     "metadata": {},
     "output_type": "execute_result"
    },
    {
     "data": {
      "image/png": "[encoded data removed]",
      "text/plain": [
       "<Figure size 640x480 with 1 Axes>"
      ]
     },
     "metadata": {},
     "output_type": "display_data"
    }
   ],
   "source": [
    "plt.plot(x,y)\n",
    "plt.plot(x,y)\n",
    "plt.xlabel(\"Wartości osi x\")\n",
    "plt.ylabel(\"Wartości podniesione do kwadratu\")\n",
    "plt.title(\"Zależność między zmiennymi x a y\")"
   ]
  }
 ],
 "metadata": {
  "kernelspec": {
   "display_name": "Python 3",
   "language": "python",
   "name": "python3"
  },
  "language_info": {
   "codemirror_mode": {
    "name": "ipython",
    "version": 3
   },
   "file_extension": ".py",
   "mimetype": "text/x-python",
   "name": "python",
   "nbconvert_exporter": "python",
   "pygments_lexer": "ipython3",
   "version": "3.12.0"
  }
 },
 "nbformat": 4,
 "nbformat_minor": 2
}
