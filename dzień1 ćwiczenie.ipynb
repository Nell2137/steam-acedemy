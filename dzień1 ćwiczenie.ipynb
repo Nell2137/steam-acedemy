{
 "cells": [
  {
   "cell_type": "code",
   "execution_count": 3,
   "metadata": {},
   "outputs": [
    {
     "data": {
      "text/plain": [
       "[1, 2, 3, 4, 5, 6, 7, 8, 9, 10]"
      ]
     },
     "execution_count": 3,
     "metadata": {},
     "output_type": "execute_result"
    }
   ],
   "source": [
    "#Utwórz listę wartości typu integer od 1 do 10.\n",
    "my_list=[1,2,3,4,5,6,7,8,9,10]\n",
    "my_list"
   ]
  },
  {
   "cell_type": "code",
   "execution_count": 4,
   "metadata": {},
   "outputs": [
    {
     "data": {
      "text/plain": [
       "10"
      ]
     },
     "execution_count": 4,
     "metadata": {},
     "output_type": "execute_result"
    }
   ],
   "source": [
    "#Wyświetl na konsoli długośc listy, tzn ile ma elementów.\n",
    "len(my_list)"
   ]
  },
  {
   "cell_type": "code",
   "execution_count": 16,
   "metadata": {},
   "outputs": [
    {
     "data": {
      "text/plain": [
       "1"
      ]
     },
     "execution_count": 16,
     "metadata": {},
     "output_type": "execute_result"
    }
   ],
   "source": [
    "#Wyświetl na konsoli pierwszy element listy\n",
    "my_list[0]"
   ]
  },
  {
   "cell_type": "code",
   "execution_count": 18,
   "metadata": {},
   "outputs": [
    {
     "data": {
      "text/plain": [
       "10"
      ]
     },
     "execution_count": 18,
     "metadata": {},
     "output_type": "execute_result"
    }
   ],
   "source": [
    "#Wyświetl na konsoli ostatni element listy.\n",
    "my_list[9]"
   ]
  },
  {
   "cell_type": "code",
   "execution_count": 7,
   "metadata": {},
   "outputs": [
    {
     "data": {
      "text/plain": [
       "55"
      ]
     },
     "execution_count": 7,
     "metadata": {},
     "output_type": "execute_result"
    }
   ],
   "source": [
    "#Wyświetl na konsoli sumę wszystkich elementów listy\n",
    "sum(my_list)"
   ]
  },
  {
   "cell_type": "code",
   "execution_count": 1,
   "metadata": {},
   "outputs": [
    {
     "ename": "NameError",
     "evalue": "name 'my_list' is not defined",
     "output_type": "error",
     "traceback": [
      "\u001b[1;31m---------------------------------------------------------------------------\u001b[0m",
      "\u001b[1;31mNameError\u001b[0m                                 Traceback (most recent call last)",
      "\u001b[1;32mc:\\Users\\Kornelia\\Desktop\\steam acedemy\\dzień1 ćwiczenie.ipynb Cell 6\u001b[0m line \u001b[0;36m2\n\u001b[0;32m      <a href='vscode-notebook-cell:/c%3A/Users/Kornelia/Desktop/steam%20acedemy/dzie%C5%841%20%C4%87wiczenie.ipynb#W5sZmlsZQ%3D%3D?line=0'>1</a>\u001b[0m \u001b[39m#Dodaj nowy element do listy o wartości „11”\u001b[39;00m\n\u001b[1;32m----> <a href='vscode-notebook-cell:/c%3A/Users/Kornelia/Desktop/steam%20acedemy/dzie%C5%841%20%C4%87wiczenie.ipynb#W5sZmlsZQ%3D%3D?line=1'>2</a>\u001b[0m my_list\u001b[39m.\u001b[39mappend(\u001b[39m11\u001b[39m)\n\u001b[0;32m      <a href='vscode-notebook-cell:/c%3A/Users/Kornelia/Desktop/steam%20acedemy/dzie%C5%841%20%C4%87wiczenie.ipynb#W5sZmlsZQ%3D%3D?line=2'>3</a>\u001b[0m \u001b[39m#my_list\u001b[39;00m\n\u001b[0;32m      <a href='vscode-notebook-cell:/c%3A/Users/Kornelia/Desktop/steam%20acedemy/dzie%C5%841%20%C4%87wiczenie.ipynb#W5sZmlsZQ%3D%3D?line=3'>4</a>\u001b[0m new_list \u001b[39m=\u001b[39m my_list[\u001b[39m0\u001b[39m:\u001b[39m11\u001b[39m]\n",
      "\u001b[1;31mNameError\u001b[0m: name 'my_list' is not defined"
     ]
    }
   ],
   "source": [
    "#Dodaj nowy element do listy o wartości „11”\n",
    "my_list.append(11)\n",
    "#my_list\n",
    "new_list = my_list[0:11]\n",
    "new_list"
   ]
  },
  {
   "cell_type": "code",
   "execution_count": 47,
   "metadata": {},
   "outputs": [
    {
     "ename": "ValueError",
     "evalue": "list.remove(x): x not in list",
     "output_type": "error",
     "traceback": [
      "\u001b[1;31m---------------------------------------------------------------------------\u001b[0m",
      "\u001b[1;31mValueError\u001b[0m                                Traceback (most recent call last)",
      "\u001b[1;32mc:\\Users\\Kornelia\\Desktop\\steam acedemy\\dzień1 ćwiczenie.ipynb Cell 7\u001b[0m line \u001b[0;36m1\n\u001b[1;32m----> <a href='vscode-notebook-cell:/c%3A/Users/Kornelia/Desktop/steam%20acedemy/dzie%C5%841%20%C4%87wiczenie.ipynb#X16sZmlsZQ%3D%3D?line=0'>1</a>\u001b[0m my_list\u001b[39m.\u001b[39;49mremove(\u001b[39m11\u001b[39;49m)\n\u001b[0;32m      <a href='vscode-notebook-cell:/c%3A/Users/Kornelia/Desktop/steam%20acedemy/dzie%C5%841%20%C4%87wiczenie.ipynb#X16sZmlsZQ%3D%3D?line=1'>2</a>\u001b[0m my_list\n",
      "\u001b[1;31mValueError\u001b[0m: list.remove(x): x not in list"
     ]
    }
   ],
   "source": [
    "my_list.remove(11)\n",
    "my_list"
   ]
  },
  {
   "cell_type": "code",
   "execution_count": 20,
   "metadata": {},
   "outputs": [],
   "source": [
    "#Usuń trzeci i szósty element listy.\n",
    "\n",
    "my_list.remove(4)\n",
    "my_list.remove(7)"
   ]
  },
  {
   "cell_type": "code",
   "execution_count": 30,
   "metadata": {},
   "outputs": [
    {
     "data": {
      "text/plain": [
       "[1,\n",
       " 2,\n",
       " 4,\n",
       " 5,\n",
       " 6,\n",
       " 8,\n",
       " 9,\n",
       " 10,\n",
       " '11',\n",
       " '11',\n",
       " '11',\n",
       " '11',\n",
       " '11',\n",
       " '11',\n",
       " '11',\n",
       " '11',\n",
       " 11,\n",
       " 11,\n",
       " 11]"
      ]
     },
     "execution_count": 30,
     "metadata": {},
     "output_type": "execute_result"
    }
   ],
   "source": [
    "#Wyświetl na konsoli nową długość listy.\n",
    "my_list"
   ]
  },
  {
   "cell_type": "code",
   "execution_count": 23,
   "metadata": {},
   "outputs": [
    {
     "data": {
      "text/plain": [
       "[1, 2, 4, 5, 6, 8, 9, 10, '11', '11', '11', '11', '11', '11', '11', '11']"
      ]
     },
     "execution_count": 23,
     "metadata": {},
     "output_type": "execute_result"
    }
   ],
   "source": [
    "#Wyświetl na konsoli listę po zmianach. \n",
    "my_list"
   ]
  }
 ],
 "metadata": {
  "kernelspec": {
   "display_name": "Python 3",
   "language": "python",
   "name": "python3"
  },
  "language_info": {
   "codemirror_mode": {
    "name": "ipython",
    "version": 3
   },
   "file_extension": ".py",
   "mimetype": "text/x-python",
   "name": "python",
   "nbconvert_exporter": "python",
   "pygments_lexer": "ipython3",
   "version": "3.12.0"
  }
 },
 "nbformat": 4,
 "nbformat_minor": 2
}
